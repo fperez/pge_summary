{
 "cells": [
  {
   "cell_type": "markdown",
   "id": "4e7092a3-e606-46ce-88b7-5fb2f48ab6a3",
   "metadata": {},
   "source": [
    "# PG&E Gas and Electric Usage Summaries\n",
    "\n",
    "Download your historical PG&E monthly data in CSV format and save it as files named `pge_electric.csv` and `pge_gas.csv`. You can then use this notebook to easily get a summary of your data."
   ]
  },
  {
   "cell_type": "code",
   "execution_count": null,
   "id": "c38218b5-8662-41be-b9a9-303b926918f9",
   "metadata": {},
   "outputs": [],
   "source": [
    "import matplotlib.pyplot as plt\n",
    "import pandas as pd\n",
    "import seaborn as sns\n",
    "from IPython.display import Markdown\n",
    "\n",
    "# Nice utility to print Markdown anywhere\n",
    "md = lambda t: display(Markdown(t))\n",
    "\n",
    "plt.plot([]), plt.close('all') # IPython bug https://github.com/ipython/ipython/issues/10383\n",
    "plt.rcParams['figure.figsize'] = (7, 4)\n",
    "plt.rcParams['figure.dpi'] = 100\n",
    "pd.set_option(\"display.precision\", 2)"
   ]
  },
  {
   "cell_type": "code",
   "execution_count": null,
   "id": "9235ba99-b412-4df7-86d1-b351bf9c81f4",
   "metadata": {},
   "outputs": [],
   "source": [
    "customer = {}\n",
    "for line in open(\"pge_electric.csv\").readlines()[:4]:\n",
    "    field, val = line.split(',', 1)\n",
    "    field = ''.join(ch for ch in field if ch.isalnum())\n",
    "    customer[field.strip()] = val.strip()\n",
    "customer"
   ]
  },
  {
   "cell_type": "code",
   "execution_count": null,
   "id": "6e78d374-0678-4cc9-8e61-40a2146a888b",
   "metadata": {},
   "outputs": [],
   "source": [
    "def read_pge_csv(fname):\n",
    "    \"\"\"Read standard PG&E CSV files and clean them up a bit.\n",
    "    \n",
    "    Converts fields into proper date-time objects and numbers.\n",
    "    \"\"\"\n",
    "    # Skip header with address/etc.\n",
    "    df = pd.read_csv(fname, skiprows=4)\n",
    "    # Make column names in TitleCase, by default they are UPPER\n",
    "    df.columns = [x.title() for x in df.columns]\n",
    "    # Cost column is strings with $ prepended\n",
    "    df['Cost'] = df['Cost'].str.lstrip('$').astype(float)\n",
    "    # Type column has needless 'billing' word\n",
    "    df['Type'] = df['Type'].str.replace('billing', '').str.strip()\n",
    "    # Make dates proper datetime objects\n",
    "    for dates in ['Start Date', 'End Date']:\n",
    "        df[dates] = pd.to_datetime(df[dates])\n",
    "    # Notes column is empty, drop it\n",
    "    return df.drop('Notes', axis=1)"
   ]
  },
  {
   "cell_type": "code",
   "execution_count": null,
   "id": "3f8f7ccc-616b-4292-bc7a-750f6c9c0ec0",
   "metadata": {},
   "outputs": [],
   "source": [
    "elec = read_pge_csv(\"pge_electric.csv\")\n",
    "elec"
   ]
  },
  {
   "cell_type": "code",
   "execution_count": null,
   "id": "35f835ad-08ad-4067-8ac5-c6372c34cdba",
   "metadata": {},
   "outputs": [],
   "source": [
    "gas = read_pge_csv(\"pge_gas.csv\")\n",
    "gas"
   ]
  },
  {
   "cell_type": "code",
   "execution_count": null,
   "id": "34082605-c03f-402b-8f39-65d536600e04",
   "metadata": {},
   "outputs": [],
   "source": [
    "def usage_plot(df):\n",
    "    \"\"\"Make a usage plot from a PG&E clean dataframe\n",
    "    \"\"\"\n",
    "    fig, ax1 = plt.subplots()\n",
    "    \n",
    "    col = 'Usage'\n",
    "    ax1.plot('Start Date', col, '-o', label=col, data=df)\n",
    "    ax1.set_xlabel('Date')\n",
    "    ax1.set_ylabel(f'Monthly Usage [{df.Units.iloc[0]}]')\n",
    "    ax1.grid()\n",
    "\n",
    "    ax2 = ax1.twinx()\n",
    "    col = 'Cost'\n",
    "    ax2.plot('Start Date', col, '-^', color='orange', label=col, data=df)\n",
    "    ax2.set_ylabel('Monthly Cost [$]');\n",
    "\n",
    "    # ask matplotlib for the plotted objects and their labels\n",
    "    lines, labels = ax1.get_legend_handles_labels()\n",
    "    lines2, labels2 = ax2.get_legend_handles_labels()\n",
    "    ax2.legend(lines + lines2, labels + labels2, loc=0)\n",
    "    \n",
    "    kind = df.Type.iloc[0]\n",
    "    ax2.set_title(f\"Monthly Usage & Cost - {kind}\")\n",
    "    \n",
    "def cost_plot(elec, gas):\n",
    "    \"\"\"Make a combined cost-only plot for gas+electric data\n",
    "    \"\"\"\n",
    "    cost = elec.Cost + gas.Cost\n",
    "    mean = cost.mean()\n",
    "\n",
    "    fig, ax = plt.subplots()\n",
    "    ax.axhline(mean, label=f'Mean (${mean:.2f})')\n",
    "    ax.plot(elec['Start Date'], cost, '-^', color='orange', label='Cost')\n",
    "    ax.set_xlabel('Date')\n",
    "    ax.set_ylabel('Monthly Cost [$]')\n",
    "    ax.set_title('Monthly Total Energy Cost (G&E)')\n",
    "    ax.legend()\n",
    "    ax.grid()\n",
    "        \n",
    "usage_plot(elec)\n",
    "usage_plot(gas)\n",
    "cost_plot(elec, gas)"
   ]
  },
  {
   "cell_type": "code",
   "execution_count": null,
   "id": "5e36a7f9-27de-4021-b17e-0d45ab88e322",
   "metadata": {},
   "outputs": [],
   "source": [
    "def annual_summ(df):\n",
    "    \"\"\"Make an average year from the entire dataset for a PG&E DF.\n",
    "    \n",
    "    Returns a DataFrame with the same structure but only 12 (named)\n",
    "    months, so it can be used interchangeably with other utilities.\n",
    "    \"\"\"\n",
    "    df_annual = df.groupby(elec['Start Date'].dt.month).mean().reset_index()\n",
    "    for col in ['Type', 'Units']:\n",
    "        df_annual[col] = df[col][:len(df_annual)]\n",
    "\n",
    "    df_annual = df_annual[df.drop('End Date', axis=1).columns]\n",
    "    df_annual['Start Date'] = pd.to_datetime(df_annual['Start Date'], format='%m').\\\n",
    "                                dt.month_name().str.slice(stop=3)\n",
    "\n",
    "    return df_annual\n",
    "\n",
    "elec_annual = annual_summ(elec)\n",
    "gas_annual = annual_summ(gas)\n",
    "\n",
    "elec_annual"
   ]
  },
  {
   "cell_type": "code",
   "execution_count": null,
   "id": "b945e296-295f-403e-ad28-9b474db923ad",
   "metadata": {},
   "outputs": [],
   "source": [
    "usage_plot(elec_annual)\n",
    "usage_plot(gas_annual)\n",
    "cost_plot(elec_annual, gas_annual)"
   ]
  },
  {
   "cell_type": "code",
   "execution_count": null,
   "id": "1b6e5bb3-bc2d-4eff-96a6-a6534a6344d8",
   "metadata": {},
   "outputs": [],
   "source": [
    "def hist(df, field, ax):\n",
    "    \"\"\"Customized histogram that highlights the mean.\n",
    "    \"\"\"\n",
    "    sns.histplot(data=df, x=field, ax=ax)\n",
    "    mean = df[field].mean()\n",
    "    ax.axvline(mean, color='orange', label=f'mean ({mean:.1f})')\n",
    "    ax.legend()\n",
    "    \n",
    "\n",
    "def usage_hist(elec, gas):\n",
    "    \"\"\"Show usage histograms for electric/gas DataFrames\n",
    "    \"\"\"\n",
    "    fig, ax = plt.subplots(2, 2, figsize=(7, 5))\n",
    "\n",
    "    start = elec['Start Date'].min()\n",
    "    end = elec['Start Date'].max()\n",
    "    fig.suptitle(f'Usage period: {start.date()} to {end.date()}')\n",
    "\n",
    "    hist(elec, 'Usage', ax[0,0])\n",
    "    ax[0,0].set_title(f'{elec.Type.iloc[0]} [{elec.Units.iloc[0]}]')\n",
    "    hist(elec, 'Cost', ax[1,0])\n",
    "\n",
    "    hist(gas, 'Usage', ax[0,1])\n",
    "    ax[0,1].set_title(f'{gas.Type.iloc[0]} [{gas.Units.iloc[0]}]')\n",
    "    hist(gas, 'Cost', ax[1,1])\n",
    "\n",
    "    plt.tight_layout()\n",
    "    \n",
    "usage_hist(elec, gas)"
   ]
  },
  {
   "cell_type": "code",
   "execution_count": null,
   "id": "5a42222e-40fe-4b64-8740-72762dbadb67",
   "metadata": {},
   "outputs": [],
   "source": [
    "def summarize(df):\n",
    "    \"\"\"Summarize usage data.\n",
    "    \n",
    "    Slightly customized describe() call that drops quartiles\n",
    "    and makes clearer column names.\n",
    "    \"\"\"\n",
    "    out = df.describe().drop(['25%', '75%'])\n",
    "    out = out.rename({'50%': 'median'})\n",
    "    unit = df['Units'].iloc[0]\n",
    "    name = df['Type'].iloc[0]\n",
    "    out = out.rename({'Usage': f'Usage [{unit}]',\n",
    "                      'Cost': f'{name} Cost [$]'}, axis=1)\n",
    "    return out\n",
    "\n",
    "summarize(elec)"
   ]
  },
  {
   "cell_type": "code",
   "execution_count": null,
   "id": "c81b9429-9379-4e37-831d-bc5489974448",
   "metadata": {},
   "outputs": [],
   "source": [
    "def monthly_report(elec, gas):\n",
    "    \"\"\"Print a summary report for monthly data.\n",
    "    \"\"\"   \n",
    "    start = elec['Start Date'].min()\n",
    "    end = elec['Start Date'].max()\n",
    "\n",
    "    md('## Report for monthly data')\n",
    "    md(f'**Report Period:** _{start.date()}_ to _{end.date()}_, '\n",
    "       f'{elec.Type.count()} months total.')\n",
    "    md('### Data summaries')\n",
    "    gas_annual_c = gas.Cost.mean() * 12\n",
    "    gas_annual_u = gas.Usage.mean() * 12\n",
    "    elec_annual_c = elec.Cost.mean() * 12\n",
    "    elec_annual_u = elec.Usage.mean() * 12\n",
    "    md(\"**Annual averages:**\")\n",
    "    md(f\"_Electric:_ ${elec_annual_c:.2f} (for {elec_annual_u:.0f} kWh).\")\n",
    "    md(f\"_Gas:_ ${gas_annual_c:.2f} (for {gas_annual_u:.0f} therm).\")\n",
    "    \n",
    "    display(pd.concat([summarize(elec), summarize(gas)], axis=1))\n",
    "    md('### Histograms')\n",
    "    usage_hist(elec, gas)\n",
    "    plt.show()\n",
    "    md('### Detailed usage/cost plots')    \n",
    "    usage_plot(elec)\n",
    "    usage_plot(gas)\n",
    "    cost_plot(elec, gas)\n",
    "    plt.show()\n",
    "\n",
    "    \n",
    "def report(elec, gas, elec_annual, gas_annual, cust):\n",
    "    \"\"\"Print a clean summary report based on all PG&E DataFrames.\n",
    "    \"\"\"\n",
    "    md(f'# PG&E Usage Report')\n",
    "    md(f'**`Name   `** {cust[\"Name\"].title()}')\n",
    "    md(f'**`Address`** {cust[\"Address\"]}')\n",
    "    md(f'**`Account`** {cust[\"AccountNumber\"]}')\n",
    "\n",
    "    monthly_report(elec, gas)\n",
    "\n",
    "    md('## Annual Averages')\n",
    "    md('### Data summaries')\n",
    "    display(pd.concat([summarize(elec_annual), summarize(gas_annual)], axis=1))    \n",
    "    md('# Monthly data averaged over all years')    \n",
    "    usage_plot(elec_annual)\n",
    "    usage_plot(gas_annual)\n",
    "    cost_plot(elec_annual, gas_annual)\n",
    "    \n",
    "report(elec, gas, elec_annual, gas_annual, customer)"
   ]
  },
  {
   "cell_type": "markdown",
   "id": "2d603964-47db-4d4e-b65f-69ec4c47902c",
   "metadata": {},
   "source": [
    "Let's run just the monthly data report over the last two years, to get a better estimate of our current usage for future planning purposes:"
   ]
  },
  {
   "cell_type": "code",
   "execution_count": null,
   "id": "68c4e971-c6a2-4dc6-8e94-d3ae99ee1d8b",
   "metadata": {},
   "outputs": [],
   "source": [
    "monthly_report(elec[-24:], gas[-24:])"
   ]
  },
  {
   "cell_type": "code",
   "execution_count": null,
   "id": "d2adda90-94ab-4b05-93b1-13bf9bad13f8",
   "metadata": {},
   "outputs": [],
   "source": []
  }
 ],
 "metadata": {
  "kernelspec": {
   "display_name": "Python 3 (ipykernel)",
   "language": "python",
   "name": "python3"
  },
  "language_info": {
   "codemirror_mode": {
    "name": "ipython",
    "version": 3
   },
   "file_extension": ".py",
   "mimetype": "text/x-python",
   "name": "python",
   "nbconvert_exporter": "python",
   "pygments_lexer": "ipython3",
   "version": "3.9.12"
  }
 },
 "nbformat": 4,
 "nbformat_minor": 5
}
